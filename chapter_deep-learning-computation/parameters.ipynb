{
 "cells": [
  {
   "cell_type": "markdown",
   "id": "e694f74d",
   "metadata": {
    "slideshow": {
     "slide_type": "-"
    }
   },
   "source": [
    "# 参数管理\n",
    "\n",
    "我们首先看一下具有单隐藏层的多层感知机"
   ]
  },
  {
   "cell_type": "code",
   "execution_count": 1,
   "id": "31e7c733",
   "metadata": {
    "execution": {
     "iopub.execute_input": "2022-12-07T16:59:39.200121Z",
     "iopub.status.busy": "2022-12-07T16:59:39.199802Z",
     "iopub.status.idle": "2022-12-07T16:59:40.341995Z",
     "shell.execute_reply": "2022-12-07T16:59:40.341206Z"
    },
    "origin_pos": 2,
    "tab": [
     "pytorch"
    ]
   },
   "outputs": [
    {
     "data": {
      "text/plain": [
       "tensor([[-0.3591],\n",
       "        [-0.3060]], grad_fn=<AddmmBackward0>)"
      ]
     },
     "execution_count": 1,
     "metadata": {},
     "output_type": "execute_result"
    }
   ],
   "source": [
    "import torch\n",
    "from torch import nn\n",
    "\n",
    "net = nn.Sequential(nn.Linear(4, 8), nn.ReLU(), nn.Linear(8, 1))\n",
    "X = torch.rand(size=(2, 4))\n",
    "net(X)"
   ]
  },
  {
   "cell_type": "markdown",
   "id": "ccba037b",
   "metadata": {
    "slideshow": {
     "slide_type": "slide"
    }
   },
   "source": [
    "参数访问"
   ]
  },
  {
   "cell_type": "code",
   "execution_count": 2,
   "id": "9e0c2768",
   "metadata": {
    "execution": {
     "iopub.execute_input": "2022-12-07T16:59:40.345895Z",
     "iopub.status.busy": "2022-12-07T16:59:40.345358Z",
     "iopub.status.idle": "2022-12-07T16:59:40.351780Z",
     "shell.execute_reply": "2022-12-07T16:59:40.350856Z"
    },
    "origin_pos": 7,
    "tab": [
     "pytorch"
    ]
   },
   "outputs": [
    {
     "name": "stdout",
     "output_type": "stream",
     "text": [
      "OrderedDict([('weight', tensor([[-0.1460, -0.0880, -0.0841, -0.3279, -0.2297,  0.2477, -0.1056,  0.3343]])), ('bias', tensor([-0.2009]))])\n"
     ]
    }
   ],
   "source": [
    "# 状态字典\n",
    "print(net[2].state_dict())"
   ]
  },
  {
   "cell_type": "markdown",
   "id": "c3220d6f",
   "metadata": {
    "slideshow": {
     "slide_type": "slide"
    }
   },
   "source": [
    "目标参数"
   ]
  },
  {
   "attachments": {},
   "cell_type": "markdown",
   "id": "b6c46db5",
   "metadata": {},
   "source": [
    "weight 权重  \n",
    "可以看到此处有 8 个参数"
   ]
  },
  {
   "attachments": {},
   "cell_type": "markdown",
   "id": "85f21ae9",
   "metadata": {},
   "source": [
    "bias 偏移  \n",
    "在神经网络中，偏置项（bias）是指在神经元中的一个常数，它与输入相乘后加到激活函数的输入中。 在 PyTorch 中，偏置项是线性层的参数之一，它是一个向量，其长度等于该层的输出大小。  \n",
    "在你的代码中，net[2].bias.data 返回的是第三个线性层的偏置项。因此，你可以认为它是 linear 公式的参数 b 的值。"
   ]
  },
  {
   "cell_type": "code",
   "execution_count": 3,
   "id": "20960d14",
   "metadata": {
    "execution": {
     "iopub.execute_input": "2022-12-07T16:59:40.355017Z",
     "iopub.status.busy": "2022-12-07T16:59:40.354533Z",
     "iopub.status.idle": "2022-12-07T16:59:40.361115Z",
     "shell.execute_reply": "2022-12-07T16:59:40.360109Z"
    },
    "origin_pos": 11,
    "tab": [
     "pytorch"
    ]
   },
   "outputs": [
    {
     "name": "stdout",
     "output_type": "stream",
     "text": [
      "<class 'torch.nn.parameter.Parameter'>\n",
      "Parameter containing:\n",
      "tensor([-0.0291], requires_grad=True)\n",
      "tensor([-0.0291])\n"
     ]
    }
   ],
   "source": [
    "print(type(net[2].bias))\n",
    "print(net[2].bias)\n",
    "print(net[2].bias.data)"
   ]
  },
  {
   "cell_type": "code",
   "execution_count": 4,
   "id": "3aaf945f",
   "metadata": {
    "execution": {
     "iopub.execute_input": "2022-12-07T16:59:40.364515Z",
     "iopub.status.busy": "2022-12-07T16:59:40.364074Z",
     "iopub.status.idle": "2022-12-07T16:59:40.370363Z",
     "shell.execute_reply": "2022-12-07T16:59:40.369347Z"
    },
    "origin_pos": 16,
    "tab": [
     "pytorch"
    ]
   },
   "outputs": [
    {
     "data": {
      "text/plain": [
       "True"
      ]
     },
     "execution_count": 4,
     "metadata": {},
     "output_type": "execute_result"
    }
   ],
   "source": [
    "net[2].weight.grad == None"
   ]
  },
  {
   "attachments": {},
   "cell_type": "markdown",
   "id": "34c1fbf5",
   "metadata": {
    "slideshow": {
     "slide_type": "slide"
    }
   },
   "source": [
    "一次性访问所有参数\n",
    "> 中间的 ReLU 是没有的"
   ]
  },
  {
   "cell_type": "code",
   "execution_count": 5,
   "id": "307d4757",
   "metadata": {
    "execution": {
     "iopub.execute_input": "2022-12-07T16:59:40.373816Z",
     "iopub.status.busy": "2022-12-07T16:59:40.373095Z",
     "iopub.status.idle": "2022-12-07T16:59:40.379087Z",
     "shell.execute_reply": "2022-12-07T16:59:40.378031Z"
    },
    "origin_pos": 19,
    "tab": [
     "pytorch"
    ]
   },
   "outputs": [
    {
     "name": "stdout",
     "output_type": "stream",
     "text": [
      "('weight', torch.Size([8, 4])) ('bias', torch.Size([8]))\n",
      "('0.weight', torch.Size([8, 4])) ('0.bias', torch.Size([8])) ('2.weight', torch.Size([1, 8])) ('2.bias', torch.Size([1]))\n"
     ]
    }
   ],
   "source": [
    "print(*[(name, param.shape) for name, param in net[0].named_parameters()])\n",
    "print(*[(name, param.shape) for name, param in net.named_parameters()])"
   ]
  },
  {
   "cell_type": "code",
   "execution_count": 6,
   "id": "deb873b1",
   "metadata": {
    "execution": {
     "iopub.execute_input": "2022-12-07T16:59:40.382676Z",
     "iopub.status.busy": "2022-12-07T16:59:40.381950Z",
     "iopub.status.idle": "2022-12-07T16:59:40.387675Z",
     "shell.execute_reply": "2022-12-07T16:59:40.386925Z"
    },
    "origin_pos": 23,
    "tab": [
     "pytorch"
    ]
   },
   "outputs": [
    {
     "data": {
      "text/plain": [
       "tensor([-0.0291])"
      ]
     },
     "execution_count": 6,
     "metadata": {},
     "output_type": "execute_result"
    }
   ],
   "source": [
    "net.state_dict()['2.bias'].data"
   ]
  },
  {
   "cell_type": "markdown",
   "id": "59859183",
   "metadata": {
    "slideshow": {
     "slide_type": "slide"
    }
   },
   "source": [
    "从嵌套块收集参数"
   ]
  },
  {
   "cell_type": "code",
   "execution_count": 7,
   "id": "74cd9d52",
   "metadata": {
    "execution": {
     "iopub.execute_input": "2022-12-07T16:59:40.391302Z",
     "iopub.status.busy": "2022-12-07T16:59:40.390503Z",
     "iopub.status.idle": "2022-12-07T16:59:40.400904Z",
     "shell.execute_reply": "2022-12-07T16:59:40.400156Z"
    },
    "origin_pos": 28,
    "tab": [
     "pytorch"
    ]
   },
   "outputs": [
    {
     "data": {
      "text/plain": [
       "tensor([[-0.3078],\n",
       "        [-0.3078]], grad_fn=<AddmmBackward0>)"
      ]
     },
     "execution_count": 7,
     "metadata": {},
     "output_type": "execute_result"
    }
   ],
   "source": [
    "def block1():\n",
    "    return nn.Sequential(nn.Linear(4, 8), nn.ReLU(),\n",
    "                         nn.Linear(8, 4), nn.ReLU())\n",
    "\n",
    "def block2():\n",
    "    net = nn.Sequential()\n",
    "    for i in range(4):\n",
    "        net.add_module(f'block {i}', block1())\n",
    "    return net\n",
    "\n",
    "rgnet = nn.Sequential(block2(), nn.Linear(4, 1))\n",
    "rgnet(X)"
   ]
  },
  {
   "cell_type": "markdown",
   "id": "163f952c",
   "metadata": {
    "slideshow": {
     "slide_type": "slide"
    }
   },
   "source": [
    "设计了网络后，我们看看它是如何工作的"
   ]
  },
  {
   "cell_type": "code",
   "execution_count": 8,
   "id": "dc4d4978",
   "metadata": {
    "execution": {
     "iopub.execute_input": "2022-12-07T16:59:40.404269Z",
     "iopub.status.busy": "2022-12-07T16:59:40.403645Z",
     "iopub.status.idle": "2022-12-07T16:59:40.407896Z",
     "shell.execute_reply": "2022-12-07T16:59:40.407140Z"
    },
    "origin_pos": 33,
    "tab": [
     "pytorch"
    ]
   },
   "outputs": [
    {
     "name": "stdout",
     "output_type": "stream",
     "text": [
      "Sequential(\n",
      "  (0): Sequential(\n",
      "    (block 0): Sequential(\n",
      "      (0): Linear(in_features=4, out_features=8, bias=True)\n",
      "      (1): ReLU()\n",
      "      (2): Linear(in_features=8, out_features=4, bias=True)\n",
      "      (3): ReLU()\n",
      "    )\n",
      "    (block 1): Sequential(\n",
      "      (0): Linear(in_features=4, out_features=8, bias=True)\n",
      "      (1): ReLU()\n",
      "      (2): Linear(in_features=8, out_features=4, bias=True)\n",
      "      (3): ReLU()\n",
      "    )\n",
      "    (block 2): Sequential(\n",
      "      (0): Linear(in_features=4, out_features=8, bias=True)\n",
      "      (1): ReLU()\n",
      "      (2): Linear(in_features=8, out_features=4, bias=True)\n",
      "      (3): ReLU()\n",
      "    )\n",
      "    (block 3): Sequential(\n",
      "      (0): Linear(in_features=4, out_features=8, bias=True)\n",
      "      (1): ReLU()\n",
      "      (2): Linear(in_features=8, out_features=4, bias=True)\n",
      "      (3): ReLU()\n",
      "    )\n",
      "  )\n",
      "  (1): Linear(in_features=4, out_features=1, bias=True)\n",
      ")\n"
     ]
    }
   ],
   "source": [
    "print(rgnet)"
   ]
  },
  {
   "cell_type": "code",
   "execution_count": 9,
   "id": "d8e60b35",
   "metadata": {
    "execution": {
     "iopub.execute_input": "2022-12-07T16:59:40.410923Z",
     "iopub.status.busy": "2022-12-07T16:59:40.410613Z",
     "iopub.status.idle": "2022-12-07T16:59:40.416456Z",
     "shell.execute_reply": "2022-12-07T16:59:40.415718Z"
    },
    "origin_pos": 37,
    "tab": [
     "pytorch"
    ]
   },
   "outputs": [
    {
     "data": {
      "text/plain": [
       "tensor([-0.2539,  0.4913,  0.3029, -0.4799,  0.2022,  0.3146,  0.0601,  0.3757])"
      ]
     },
     "execution_count": 9,
     "metadata": {},
     "output_type": "execute_result"
    }
   ],
   "source": [
    "rgnet[0][1][0].bias.data"
   ]
  },
  {
   "attachments": {},
   "cell_type": "markdown",
   "id": "e1118dd3",
   "metadata": {
    "slideshow": {
     "slide_type": "slide"
    }
   },
   "source": [
    "内置初始化\n",
    "\n",
    "全连接层（Fully Connected Layer）是指神经网络中的一种常见层类型，也称为线性层（Linear Layer）。在全连接层中，每个输入神经元都与输出神经元相连，因此该层的输出是输入的线性组合。全连接层通常用于将高维输入数据映射到低维空间，或者将低维特征映射到高维空间。"
   ]
  },
  {
   "cell_type": "code",
   "execution_count": 10,
   "id": "719e7eb8",
   "metadata": {
    "execution": {
     "iopub.execute_input": "2022-12-07T16:59:40.419626Z",
     "iopub.status.busy": "2022-12-07T16:59:40.419352Z",
     "iopub.status.idle": "2022-12-07T16:59:40.426766Z",
     "shell.execute_reply": "2022-12-07T16:59:40.426002Z"
    },
    "origin_pos": 47,
    "tab": [
     "pytorch"
    ]
   },
   "outputs": [
    {
     "data": {
      "text/plain": [
       "(tensor([-0.0128, -0.0141,  0.0062,  0.0028]), tensor(0.))"
      ]
     },
     "execution_count": 10,
     "metadata": {},
     "output_type": "execute_result"
    }
   ],
   "source": [
    "# m 是一个 module \n",
    "def init_normal(m):\n",
    "    # 判断是否是全连接层\n",
    "    if type(m) == nn.Linear:\n",
    "        nn.init.normal_(m.weight, mean=0, std=0.01)\n",
    "        nn.init.zeros_(m.bias)\n",
    "# 应用到 net 中的每一个全连接层\n",
    "net.apply(init_normal)\n",
    "net[0].weight.data[0], net[0].bias.data[0]"
   ]
  },
  {
   "cell_type": "code",
   "execution_count": 11,
   "id": "acd121fc",
   "metadata": {
    "execution": {
     "iopub.execute_input": "2022-12-07T16:59:40.430188Z",
     "iopub.status.busy": "2022-12-07T16:59:40.429543Z",
     "iopub.status.idle": "2022-12-07T16:59:40.436502Z",
     "shell.execute_reply": "2022-12-07T16:59:40.435761Z"
    },
    "origin_pos": 52,
    "tab": [
     "pytorch"
    ]
   },
   "outputs": [
    {
     "data": {
      "text/plain": [
       "(tensor([1., 1., 1., 1.]), tensor(0.))"
      ]
     },
     "execution_count": 11,
     "metadata": {},
     "output_type": "execute_result"
    }
   ],
   "source": [
    "def init_constant(m):\n",
    "    if type(m) == nn.Linear:\n",
    "        nn.init.constant_(m.weight, 1)\n",
    "        nn.init.zeros_(m.bias)\n",
    "net.apply(init_constant)\n",
    "net[0].weight.data[0], net[0].bias.data[0]"
   ]
  },
  {
   "cell_type": "markdown",
   "id": "a9f617fd",
   "metadata": {
    "slideshow": {
     "slide_type": "slide"
    }
   },
   "source": [
    "对某些块应用不同的初始化方法"
   ]
  },
  {
   "cell_type": "code",
   "execution_count": 12,
   "id": "44989c06",
   "metadata": {
    "execution": {
     "iopub.execute_input": "2022-12-07T16:59:40.439840Z",
     "iopub.status.busy": "2022-12-07T16:59:40.439218Z",
     "iopub.status.idle": "2022-12-07T16:59:40.445909Z",
     "shell.execute_reply": "2022-12-07T16:59:40.445156Z"
    },
    "origin_pos": 57,
    "tab": [
     "pytorch"
    ]
   },
   "outputs": [
    {
     "name": "stdout",
     "output_type": "stream",
     "text": [
      "tensor([ 0.3809,  0.5354, -0.4686, -0.2376])\n",
      "tensor([[42., 42., 42., 42., 42., 42., 42., 42.]])\n"
     ]
    }
   ],
   "source": [
    "def init_xavier(m):\n",
    "    if type(m) == nn.Linear:\n",
    "        nn.init.xavier_uniform_(m.weight)\n",
    "def init_42(m):\n",
    "    if type(m) == nn.Linear:\n",
    "        nn.init.constant_(m.weight, 42)\n",
    "\n",
    "net[0].apply(init_xavier)\n",
    "net[2].apply(init_42)\n",
    "print(net[0].weight.data[0])\n",
    "print(net[2].weight.data)"
   ]
  },
  {
   "cell_type": "markdown",
   "id": "8c5af030",
   "metadata": {
    "slideshow": {
     "slide_type": "slide"
    }
   },
   "source": [
    "自定义初始化"
   ]
  },
  {
   "cell_type": "code",
   "execution_count": 13,
   "id": "62859272",
   "metadata": {
    "execution": {
     "iopub.execute_input": "2022-12-07T16:59:40.449458Z",
     "iopub.status.busy": "2022-12-07T16:59:40.448848Z",
     "iopub.status.idle": "2022-12-07T16:59:40.457344Z",
     "shell.execute_reply": "2022-12-07T16:59:40.456599Z"
    },
    "origin_pos": 66,
    "tab": [
     "pytorch"
    ]
   },
   "outputs": [
    {
     "name": "stdout",
     "output_type": "stream",
     "text": [
      "Init weight torch.Size([8, 4])\n",
      "Init weight torch.Size([1, 8])\n"
     ]
    },
    {
     "data": {
      "text/plain": [
       "tensor([[-0.0000, 0.0000, -0.0000, 0.0000],\n",
       "        [-0.0000, 9.3464, 5.5061, 6.8197]], grad_fn=<SliceBackward0>)"
      ]
     },
     "execution_count": 13,
     "metadata": {},
     "output_type": "execute_result"
    }
   ],
   "source": [
    "def my_init(m):\n",
    "    if type(m) == nn.Linear:\n",
    "        print(\"Init\", *[(name, param.shape)\n",
    "                        for name, param in m.named_parameters()][0])\n",
    "        nn.init.uniform_(m.weight, -10, 10)\n",
    "        m.weight.data *= m.weight.data.abs() >= 5\n",
    "\n",
    "net.apply(my_init)\n",
    "net[0].weight[:2]"
   ]
  },
  {
   "cell_type": "code",
   "execution_count": 14,
   "id": "c384147e",
   "metadata": {
    "execution": {
     "iopub.execute_input": "2022-12-07T16:59:40.460372Z",
     "iopub.status.busy": "2022-12-07T16:59:40.460090Z",
     "iopub.status.idle": "2022-12-07T16:59:40.466428Z",
     "shell.execute_reply": "2022-12-07T16:59:40.465690Z"
    },
    "origin_pos": 71,
    "tab": [
     "pytorch"
    ]
   },
   "outputs": [
    {
     "data": {
      "text/plain": [
       "tensor([42.,  1.,  1.,  1.])"
      ]
     },
     "execution_count": 14,
     "metadata": {},
     "output_type": "execute_result"
    }
   ],
   "source": [
    "net[0].weight.data[:] += 1\n",
    "net[0].weight.data[0, 0] = 42\n",
    "net[0].weight.data[0]"
   ]
  },
  {
   "cell_type": "markdown",
   "id": "cd828297",
   "metadata": {
    "slideshow": {
     "slide_type": "slide"
    }
   },
   "source": [
    "参数绑定"
   ]
  },
  {
   "cell_type": "code",
   "execution_count": 15,
   "id": "ef91cda9",
   "metadata": {
    "execution": {
     "iopub.execute_input": "2022-12-07T16:59:40.469511Z",
     "iopub.status.busy": "2022-12-07T16:59:40.469232Z",
     "iopub.status.idle": "2022-12-07T16:59:40.477075Z",
     "shell.execute_reply": "2022-12-07T16:59:40.476334Z"
    },
    "origin_pos": 77,
    "tab": [
     "pytorch"
    ]
   },
   "outputs": [
    {
     "name": "stdout",
     "output_type": "stream",
     "text": [
      "tensor([True, True, True, True, True, True, True, True])\n",
      "tensor([True, True, True, True, True, True, True, True])\n"
     ]
    }
   ],
   "source": [
    "shared = nn.Linear(8, 8)\n",
    "net = nn.Sequential(nn.Linear(4, 8), nn.ReLU(),\n",
    "                    shared, nn.ReLU(),\n",
    "                    shared, nn.ReLU(),\n",
    "                    nn.Linear(8, 1))\n",
    "net(X)\n",
    "print(net[2].weight.data[0] == net[4].weight.data[0])\n",
    "net[2].weight.data[0, 0] = 100\n",
    "print(net[2].weight.data[0] == net[4].weight.data[0])"
   ]
  }
 ],
 "metadata": {
  "celltoolbar": "Slideshow",
  "kernelspec": {
   "display_name": "d2l-zh",
   "language": "python",
   "name": "python3"
  },
  "language_info": {
   "codemirror_mode": {
    "name": "ipython",
    "version": 3
   },
   "file_extension": ".py",
   "mimetype": "text/x-python",
   "name": "python",
   "nbconvert_exporter": "python",
   "pygments_lexer": "ipython3",
   "version": "3.8.16"
  },
  "rise": {
   "autolaunch": true,
   "enable_chalkboard": true,
   "overlay": "<div class='my-top-right'><img height=80px src='http://d2l.ai/_static/logo-with-text.png'/></div><div class='my-top-left'></div>",
   "scroll": true
  },
  "vscode": {
   "interpreter": {
    "hash": "b320c748c085e173cc38d9117a1564438f46235551c4648d4648ac8881850d65"
   }
  }
 },
 "nbformat": 4,
 "nbformat_minor": 5
}
