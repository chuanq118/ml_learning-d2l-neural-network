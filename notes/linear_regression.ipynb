{
 "cells": [
  {
   "cell_type": "code",
   "execution_count": 1,
   "metadata": {},
   "outputs": [],
   "source": [
    "import random\n",
    "import torch\n",
    "from d2l import torch as d2l"
   ]
  },
  {
   "attachments": {},
   "cell_type": "markdown",
   "metadata": {},
   "source": [
    "\n",
    "$$\n",
    "    y=Xw+b+c\n",
    "$$\n",
    "\n",
    "#### torch.normal()\n",
    "torch.normal() 是 PyTorch 中的一个函数，用于从给定参数的离散正态分布中抽取随机数。它有三个参数：means、std 和 out。其中，means 是一个张量，包含每个输出元素相关的正态分布的均值；std 是一个张量，包含每个输出元素相关的正态分布的标准差；而 out 则是一个张量，用于存储结果。如果没有指定 out，则会新建一个张量来存储结果"
   ]
  },
  {
   "cell_type": "code",
   "execution_count": null,
   "metadata": {},
   "outputs": [],
   "source": [
    "def synthetic_data"
   ]
  }
 ],
 "metadata": {
  "kernelspec": {
   "display_name": "d2l-zh",
   "language": "python",
   "name": "python3"
  },
  "language_info": {
   "codemirror_mode": {
    "name": "ipython",
    "version": 3
   },
   "file_extension": ".py",
   "mimetype": "text/x-python",
   "name": "python",
   "nbconvert_exporter": "python",
   "pygments_lexer": "ipython3",
   "version": "3.8.16"
  },
  "orig_nbformat": 4,
  "vscode": {
   "interpreter": {
    "hash": "b320c748c085e173cc38d9117a1564438f46235551c4648d4648ac8881850d65"
   }
  }
 },
 "nbformat": 4,
 "nbformat_minor": 2
}
